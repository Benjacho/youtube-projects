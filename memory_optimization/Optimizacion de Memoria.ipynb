{
 "cells": [
  {
   "cell_type": "code",
   "execution_count": 1,
   "metadata": {},
   "outputs": [],
   "source": [
    "import pandas as pd\n",
    "import numpy as np"
   ]
  },
  {
   "cell_type": "markdown",
   "metadata": {},
   "source": [
    "Determinar el total de memoria que ocupara el archivo"
   ]
  },
  {
   "cell_type": "code",
   "execution_count": 5,
   "metadata": {},
   "outputs": [
    {
     "data": {
      "text/html": [
       "<div>\n",
       "<style scoped>\n",
       "    .dataframe tbody tr th:only-of-type {\n",
       "        vertical-align: middle;\n",
       "    }\n",
       "\n",
       "    .dataframe tbody tr th {\n",
       "        vertical-align: top;\n",
       "    }\n",
       "\n",
       "    .dataframe thead th {\n",
       "        text-align: right;\n",
       "    }\n",
       "</style>\n",
       "<table border=\"1\" class=\"dataframe\">\n",
       "  <thead>\n",
       "    <tr style=\"text-align: right;\">\n",
       "      <th></th>\n",
       "      <th>country</th>\n",
       "      <th>description</th>\n",
       "      <th>designation</th>\n",
       "      <th>points</th>\n",
       "      <th>price</th>\n",
       "      <th>province</th>\n",
       "      <th>region_1</th>\n",
       "      <th>region_2</th>\n",
       "      <th>variety</th>\n",
       "      <th>winery</th>\n",
       "    </tr>\n",
       "  </thead>\n",
       "  <tbody>\n",
       "    <tr>\n",
       "      <th>0</th>\n",
       "      <td>US</td>\n",
       "      <td>This tremendous 100% varietal wine hails from ...</td>\n",
       "      <td>Martha's Vineyard</td>\n",
       "      <td>96</td>\n",
       "      <td>235.0</td>\n",
       "      <td>California</td>\n",
       "      <td>Napa Valley</td>\n",
       "      <td>Napa</td>\n",
       "      <td>Cabernet Sauvignon</td>\n",
       "      <td>Heitz</td>\n",
       "    </tr>\n",
       "    <tr>\n",
       "      <th>1</th>\n",
       "      <td>Spain</td>\n",
       "      <td>Ripe aromas of fig, blackberry and cassis are ...</td>\n",
       "      <td>Carodorum Selección Especial Reserva</td>\n",
       "      <td>96</td>\n",
       "      <td>110.0</td>\n",
       "      <td>Northern Spain</td>\n",
       "      <td>Toro</td>\n",
       "      <td>NaN</td>\n",
       "      <td>Tinta de Toro</td>\n",
       "      <td>Bodega Carmen Rodríguez</td>\n",
       "    </tr>\n",
       "    <tr>\n",
       "      <th>2</th>\n",
       "      <td>US</td>\n",
       "      <td>Mac Watson honors the memory of a wine once ma...</td>\n",
       "      <td>Special Selected Late Harvest</td>\n",
       "      <td>96</td>\n",
       "      <td>90.0</td>\n",
       "      <td>California</td>\n",
       "      <td>Knights Valley</td>\n",
       "      <td>Sonoma</td>\n",
       "      <td>Sauvignon Blanc</td>\n",
       "      <td>Macauley</td>\n",
       "    </tr>\n",
       "    <tr>\n",
       "      <th>3</th>\n",
       "      <td>US</td>\n",
       "      <td>This spent 20 months in 30% new French oak, an...</td>\n",
       "      <td>Reserve</td>\n",
       "      <td>96</td>\n",
       "      <td>65.0</td>\n",
       "      <td>Oregon</td>\n",
       "      <td>Willamette Valley</td>\n",
       "      <td>Willamette Valley</td>\n",
       "      <td>Pinot Noir</td>\n",
       "      <td>Ponzi</td>\n",
       "    </tr>\n",
       "    <tr>\n",
       "      <th>4</th>\n",
       "      <td>France</td>\n",
       "      <td>This is the top wine from La Bégude, named aft...</td>\n",
       "      <td>La Brûlade</td>\n",
       "      <td>95</td>\n",
       "      <td>66.0</td>\n",
       "      <td>Provence</td>\n",
       "      <td>Bandol</td>\n",
       "      <td>NaN</td>\n",
       "      <td>Provence red blend</td>\n",
       "      <td>Domaine de la Bégude</td>\n",
       "    </tr>\n",
       "    <tr>\n",
       "      <th>...</th>\n",
       "      <td>...</td>\n",
       "      <td>...</td>\n",
       "      <td>...</td>\n",
       "      <td>...</td>\n",
       "      <td>...</td>\n",
       "      <td>...</td>\n",
       "      <td>...</td>\n",
       "      <td>...</td>\n",
       "      <td>...</td>\n",
       "      <td>...</td>\n",
       "    </tr>\n",
       "    <tr>\n",
       "      <th>995</th>\n",
       "      <td>Portugal</td>\n",
       "      <td>This is a dry sparkling wine with tannins, spi...</td>\n",
       "      <td>Plexus Tinto</td>\n",
       "      <td>85</td>\n",
       "      <td>7.0</td>\n",
       "      <td>Tejo</td>\n",
       "      <td>NaN</td>\n",
       "      <td>NaN</td>\n",
       "      <td>Alicante Bouschet</td>\n",
       "      <td>Adega Cooperativa do Cartaxo</td>\n",
       "    </tr>\n",
       "    <tr>\n",
       "      <th>996</th>\n",
       "      <td>Portugal</td>\n",
       "      <td>This is a soft, creamy wine with fruitiness an...</td>\n",
       "      <td>Blanc de Blancs Bruto</td>\n",
       "      <td>85</td>\n",
       "      <td>12.0</td>\n",
       "      <td>Beira Atlantico</td>\n",
       "      <td>NaN</td>\n",
       "      <td>NaN</td>\n",
       "      <td>Portuguese Sparkling</td>\n",
       "      <td>Adega de Cantanhede</td>\n",
       "    </tr>\n",
       "    <tr>\n",
       "      <th>997</th>\n",
       "      <td>France</td>\n",
       "      <td>This is a soft wine whose herbal character is ...</td>\n",
       "      <td>La Galope</td>\n",
       "      <td>85</td>\n",
       "      <td>15.0</td>\n",
       "      <td>Southwest France</td>\n",
       "      <td>Côtes de Gascogne</td>\n",
       "      <td>NaN</td>\n",
       "      <td>Sauvignon Blanc</td>\n",
       "      <td>Domaine de l'Herré</td>\n",
       "    </tr>\n",
       "    <tr>\n",
       "      <th>998</th>\n",
       "      <td>France</td>\n",
       "      <td>This white wine is fruity and crisp with a del...</td>\n",
       "      <td>NaN</td>\n",
       "      <td>85</td>\n",
       "      <td>9.0</td>\n",
       "      <td>Southwest France</td>\n",
       "      <td>Côtes de Gascogne</td>\n",
       "      <td>NaN</td>\n",
       "      <td>White Blend</td>\n",
       "      <td>Domaine du Touja</td>\n",
       "    </tr>\n",
       "    <tr>\n",
       "      <th>999</th>\n",
       "      <td>Argentina</td>\n",
       "      <td>Dusty plum and berry aromas are clean. In the ...</td>\n",
       "      <td>NaN</td>\n",
       "      <td>85</td>\n",
       "      <td>11.0</td>\n",
       "      <td>Mendoza Province</td>\n",
       "      <td>Mendoza</td>\n",
       "      <td>NaN</td>\n",
       "      <td>Malbec</td>\n",
       "      <td>Proemio</td>\n",
       "    </tr>\n",
       "  </tbody>\n",
       "</table>\n",
       "<p>1000 rows × 10 columns</p>\n",
       "</div>"
      ],
      "text/plain": [
       "       country                                        description  \\\n",
       "0           US  This tremendous 100% varietal wine hails from ...   \n",
       "1        Spain  Ripe aromas of fig, blackberry and cassis are ...   \n",
       "2           US  Mac Watson honors the memory of a wine once ma...   \n",
       "3           US  This spent 20 months in 30% new French oak, an...   \n",
       "4       France  This is the top wine from La Bégude, named aft...   \n",
       "..         ...                                                ...   \n",
       "995   Portugal  This is a dry sparkling wine with tannins, spi...   \n",
       "996   Portugal  This is a soft, creamy wine with fruitiness an...   \n",
       "997     France  This is a soft wine whose herbal character is ...   \n",
       "998     France  This white wine is fruity and crisp with a del...   \n",
       "999  Argentina  Dusty plum and berry aromas are clean. In the ...   \n",
       "\n",
       "                              designation  points  price          province  \\\n",
       "0                       Martha's Vineyard      96  235.0        California   \n",
       "1    Carodorum Selección Especial Reserva      96  110.0    Northern Spain   \n",
       "2           Special Selected Late Harvest      96   90.0        California   \n",
       "3                                 Reserve      96   65.0            Oregon   \n",
       "4                              La Brûlade      95   66.0          Provence   \n",
       "..                                    ...     ...    ...               ...   \n",
       "995                          Plexus Tinto      85    7.0              Tejo   \n",
       "996                 Blanc de Blancs Bruto      85   12.0   Beira Atlantico   \n",
       "997                             La Galope      85   15.0  Southwest France   \n",
       "998                                   NaN      85    9.0  Southwest France   \n",
       "999                                   NaN      85   11.0  Mendoza Province   \n",
       "\n",
       "              region_1           region_2               variety  \\\n",
       "0          Napa Valley               Napa    Cabernet Sauvignon   \n",
       "1                 Toro                NaN         Tinta de Toro   \n",
       "2       Knights Valley             Sonoma       Sauvignon Blanc   \n",
       "3    Willamette Valley  Willamette Valley            Pinot Noir   \n",
       "4               Bandol                NaN    Provence red blend   \n",
       "..                 ...                ...                   ...   \n",
       "995                NaN                NaN     Alicante Bouschet   \n",
       "996                NaN                NaN  Portuguese Sparkling   \n",
       "997  Côtes de Gascogne                NaN       Sauvignon Blanc   \n",
       "998  Côtes de Gascogne                NaN           White Blend   \n",
       "999            Mendoza                NaN                Malbec   \n",
       "\n",
       "                           winery  \n",
       "0                           Heitz  \n",
       "1         Bodega Carmen Rodríguez  \n",
       "2                        Macauley  \n",
       "3                           Ponzi  \n",
       "4            Domaine de la Bégude  \n",
       "..                            ...  \n",
       "995  Adega Cooperativa do Cartaxo  \n",
       "996           Adega de Cantanhede  \n",
       "997            Domaine de l'Herré  \n",
       "998              Domaine du Touja  \n",
       "999                       Proemio  \n",
       "\n",
       "[1000 rows x 10 columns]"
      ]
     },
     "execution_count": 5,
     "metadata": {},
     "output_type": "execute_result"
    }
   ],
   "source": [
    "fullPathFile = 'D:\\Data Science Datasets\\winereviews\\winemag-data_first150k.csv'\n",
    "vino = pd.read_csv(fullPathFile, nrows=1000, index_col='Unnamed: 0')\n",
    "vino"
   ]
  },
  {
   "cell_type": "code",
   "execution_count": 6,
   "metadata": {},
   "outputs": [
    {
     "name": "stdout",
     "output_type": "stream",
     "text": [
      "<class 'pandas.core.frame.DataFrame'>\n",
      "Int64Index: 1000 entries, 0 to 999\n",
      "Data columns (total 10 columns):\n",
      " #   Column       Non-Null Count  Dtype  \n",
      "---  ------       --------------  -----  \n",
      " 0   country      1000 non-null   object \n",
      " 1   description  1000 non-null   object \n",
      " 2   designation  765 non-null    object \n",
      " 3   points       1000 non-null   int64  \n",
      " 4   price        955 non-null    float64\n",
      " 5   province     1000 non-null   object \n",
      " 6   region_1     858 non-null    object \n",
      " 7   region_2     457 non-null    object \n",
      " 8   variety      1000 non-null   object \n",
      " 9   winery       1000 non-null   object \n",
      "dtypes: float64(1), int64(1), object(8)\n",
      "memory usage: 85.9+ KB\n"
     ]
    }
   ],
   "source": [
    "vino.info()"
   ]
  },
  {
   "cell_type": "markdown",
   "metadata": {},
   "source": [
    "85.9 KB x 1 Million = 86 GB en memoria, cargar esos datos en memoria es dificil. Usemos el parametro dtype para utilizar el correcto tipo de dato numerico"
   ]
  },
  {
   "cell_type": "code",
   "execution_count": 7,
   "metadata": {},
   "outputs": [
    {
     "data": {
      "text/html": [
       "<div>\n",
       "<style scoped>\n",
       "    .dataframe tbody tr th:only-of-type {\n",
       "        vertical-align: middle;\n",
       "    }\n",
       "\n",
       "    .dataframe tbody tr th {\n",
       "        vertical-align: top;\n",
       "    }\n",
       "\n",
       "    .dataframe thead th {\n",
       "        text-align: right;\n",
       "    }\n",
       "</style>\n",
       "<table border=\"1\" class=\"dataframe\">\n",
       "  <thead>\n",
       "    <tr style=\"text-align: right;\">\n",
       "      <th></th>\n",
       "      <th>points</th>\n",
       "      <th>price</th>\n",
       "    </tr>\n",
       "  </thead>\n",
       "  <tbody>\n",
       "    <tr>\n",
       "      <th>count</th>\n",
       "      <td>1000.000000</td>\n",
       "      <td>955.000000</td>\n",
       "    </tr>\n",
       "    <tr>\n",
       "      <th>mean</th>\n",
       "      <td>89.870000</td>\n",
       "      <td>41.302618</td>\n",
       "    </tr>\n",
       "    <tr>\n",
       "      <th>std</th>\n",
       "      <td>2.350878</td>\n",
       "      <td>33.347160</td>\n",
       "    </tr>\n",
       "    <tr>\n",
       "      <th>min</th>\n",
       "      <td>85.000000</td>\n",
       "      <td>7.000000</td>\n",
       "    </tr>\n",
       "    <tr>\n",
       "      <th>25%</th>\n",
       "      <td>88.750000</td>\n",
       "      <td>22.000000</td>\n",
       "    </tr>\n",
       "    <tr>\n",
       "      <th>50%</th>\n",
       "      <td>90.000000</td>\n",
       "      <td>33.000000</td>\n",
       "    </tr>\n",
       "    <tr>\n",
       "      <th>75%</th>\n",
       "      <td>91.000000</td>\n",
       "      <td>50.000000</td>\n",
       "    </tr>\n",
       "    <tr>\n",
       "      <th>max</th>\n",
       "      <td>96.000000</td>\n",
       "      <td>500.000000</td>\n",
       "    </tr>\n",
       "  </tbody>\n",
       "</table>\n",
       "</div>"
      ],
      "text/plain": [
       "            points       price\n",
       "count  1000.000000  955.000000\n",
       "mean     89.870000   41.302618\n",
       "std       2.350878   33.347160\n",
       "min      85.000000    7.000000\n",
       "25%      88.750000   22.000000\n",
       "50%      90.000000   33.000000\n",
       "75%      91.000000   50.000000\n",
       "max      96.000000  500.000000"
      ]
     },
     "execution_count": 7,
     "metadata": {},
     "output_type": "execute_result"
    }
   ],
   "source": [
    "vino.describe()"
   ]
  },
  {
   "cell_type": "code",
   "execution_count": 8,
   "metadata": {},
   "outputs": [
    {
     "name": "stdout",
     "output_type": "stream",
     "text": [
      "<class 'pandas.core.frame.DataFrame'>\n",
      "Int64Index: 1000 entries, 0 to 999\n",
      "Data columns (total 10 columns):\n",
      " #   Column       Non-Null Count  Dtype  \n",
      "---  ------       --------------  -----  \n",
      " 0   country      1000 non-null   object \n",
      " 1   description  1000 non-null   object \n",
      " 2   designation  765 non-null    object \n",
      " 3   points       1000 non-null   int64  \n",
      " 4   price        955 non-null    float64\n",
      " 5   province     1000 non-null   object \n",
      " 6   region_1     858 non-null    object \n",
      " 7   region_2     457 non-null    object \n",
      " 8   variety      1000 non-null   object \n",
      " 9   winery       1000 non-null   object \n",
      "dtypes: float64(1), int64(1), object(8)\n",
      "memory usage: 85.9+ KB\n"
     ]
    }
   ],
   "source": [
    "vino.info()"
   ]
  },
  {
   "cell_type": "code",
   "execution_count": 9,
   "metadata": {},
   "outputs": [
    {
     "name": "stdout",
     "output_type": "stream",
     "text": [
      "<class 'pandas.core.frame.DataFrame'>\n",
      "Int64Index: 1000 entries, 0 to 999\n",
      "Data columns (total 10 columns):\n",
      " #   Column       Non-Null Count  Dtype  \n",
      "---  ------       --------------  -----  \n",
      " 0   country      1000 non-null   object \n",
      " 1   description  1000 non-null   object \n",
      " 2   designation  765 non-null    object \n",
      " 3   points       1000 non-null   int8   \n",
      " 4   price        955 non-null    float16\n",
      " 5   province     1000 non-null   object \n",
      " 6   region_1     858 non-null    object \n",
      " 7   region_2     457 non-null    object \n",
      " 8   variety      1000 non-null   object \n",
      " 9   winery       1000 non-null   object \n",
      "dtypes: float16(1), int8(1), object(8)\n",
      "memory usage: 73.2+ KB\n"
     ]
    }
   ],
   "source": [
    "vino2 = pd.read_csv(fullPathFile, nrows=1000, index_col='Unnamed: 0', dtype={ 'points': np.int8, 'price': np.float16 })\n",
    "vino2.info()"
   ]
  },
  {
   "cell_type": "code",
   "execution_count": 10,
   "metadata": {},
   "outputs": [
    {
     "data": {
      "text/html": [
       "<div>\n",
       "<style scoped>\n",
       "    .dataframe tbody tr th:only-of-type {\n",
       "        vertical-align: middle;\n",
       "    }\n",
       "\n",
       "    .dataframe tbody tr th {\n",
       "        vertical-align: top;\n",
       "    }\n",
       "\n",
       "    .dataframe thead th {\n",
       "        text-align: right;\n",
       "    }\n",
       "</style>\n",
       "<table border=\"1\" class=\"dataframe\">\n",
       "  <thead>\n",
       "    <tr style=\"text-align: right;\">\n",
       "      <th></th>\n",
       "      <th>points</th>\n",
       "      <th>price</th>\n",
       "    </tr>\n",
       "  </thead>\n",
       "  <tbody>\n",
       "    <tr>\n",
       "      <th>count</th>\n",
       "      <td>1000.000000</td>\n",
       "      <td>955.0000</td>\n",
       "    </tr>\n",
       "    <tr>\n",
       "      <th>mean</th>\n",
       "      <td>89.870000</td>\n",
       "      <td>41.3125</td>\n",
       "    </tr>\n",
       "    <tr>\n",
       "      <th>std</th>\n",
       "      <td>2.350878</td>\n",
       "      <td>inf</td>\n",
       "    </tr>\n",
       "    <tr>\n",
       "      <th>min</th>\n",
       "      <td>85.000000</td>\n",
       "      <td>7.0000</td>\n",
       "    </tr>\n",
       "    <tr>\n",
       "      <th>25%</th>\n",
       "      <td>88.750000</td>\n",
       "      <td>22.0000</td>\n",
       "    </tr>\n",
       "    <tr>\n",
       "      <th>50%</th>\n",
       "      <td>90.000000</td>\n",
       "      <td>33.0000</td>\n",
       "    </tr>\n",
       "    <tr>\n",
       "      <th>75%</th>\n",
       "      <td>91.000000</td>\n",
       "      <td>50.0000</td>\n",
       "    </tr>\n",
       "    <tr>\n",
       "      <th>max</th>\n",
       "      <td>96.000000</td>\n",
       "      <td>500.0000</td>\n",
       "    </tr>\n",
       "  </tbody>\n",
       "</table>\n",
       "</div>"
      ],
      "text/plain": [
       "            points     price\n",
       "count  1000.000000  955.0000\n",
       "mean     89.870000   41.3125\n",
       "std       2.350878       inf\n",
       "min      85.000000    7.0000\n",
       "25%      88.750000   22.0000\n",
       "50%      90.000000   33.0000\n",
       "75%      91.000000   50.0000\n",
       "max      96.000000  500.0000"
      ]
     },
     "execution_count": 10,
     "metadata": {},
     "output_type": "execute_result"
    }
   ],
   "source": [
    "vino2.describe()"
   ]
  },
  {
   "cell_type": "markdown",
   "metadata": {},
   "source": [
    "Perdimos algo de precision en el precio, esto puede ser aceptado o no dependiendo del contexto."
   ]
  },
  {
   "cell_type": "markdown",
   "metadata": {},
   "source": [
    "### Vamos a cambiar el tipo de Object a category para reducir el uso de memoria"
   ]
  },
  {
   "cell_type": "code",
   "execution_count": 11,
   "metadata": {},
   "outputs": [
    {
     "data": {
      "text/plain": [
       "US              465\n",
       "France          155\n",
       "Italy           153\n",
       "Spain            62\n",
       "Portugal         52\n",
       "Germany          24\n",
       "Argentina        21\n",
       "Chile            18\n",
       "Greece            8\n",
       "Israel            8\n",
       "South Africa      7\n",
       "Canada            5\n",
       "Australia         5\n",
       "Bulgaria          4\n",
       "Austria           4\n",
       "New Zealand       2\n",
       "Hungary           2\n",
       "Romania           1\n",
       "Slovenia          1\n",
       "Moldova           1\n",
       "Croatia           1\n",
       "Morocco           1\n",
       "Name: country, dtype: int64"
      ]
     },
     "execution_count": 11,
     "metadata": {},
     "output_type": "execute_result"
    }
   ],
   "source": [
    "vino2['country'].value_counts()"
   ]
  },
  {
   "cell_type": "code",
   "execution_count": 12,
   "metadata": {},
   "outputs": [
    {
     "data": {
      "text/plain": [
       "Here's a lively Moscato made in a dry style that opens with heady scents of jasmine, citrus blossom and yellow stone fruit aromas. The vibrant palate tastes of apricot, tangerine zest and a note of botanical herb alongside fresh acidity.                                                                                                    2\n",
       "Aromas of scorched earth, game, truffle and mature plum come together in the glass. The ripe palate offers dried blackberry, mature cherry, anise and almond alongside firm, fine-grained tannins. Drink through 2020.                                                                                                                           2\n",
       "A mix of smoke and toast blends with fresh, crisp citrus aromas on the nose. That's followed by a foamy, reactive palate with flavors of pink grapefruit, orange, pepper and caramel. This remains foamy on the finish, which is peppery and slightly bitter in flavor.                                                                          2\n",
       "Briny aromas of bell pepper, jalapeño and canned pea are green-leaning but not overly vegetal. This has a round mouthfeel and ample body to absorb the wine's acidity, while flavors of celery, bell pepper, lime and tangerine come with a strong grassy accent and a persistent, briny tasting finish.                                         2\n",
       "This standout Rocks District wine brings earth shaking aromas of black-olive brine, tapenade, green olive, stargazer lilies, orange peel and crushed gravel. The smoked meat, charcuterie and blue-fruit flavors don't hold back, bringing a lovely sense of texture and detail. It's an intense wine that completely demands your attention.    2\n",
       "                                                                                                                                                                                                                                                                                                                                                ..\n",
       "This is a delightfully crisp, elegant and lip-smacking wine, that's subtle and easy to love. Lemon peel, apple skin and pear play together well, never becoming distracting, but instead integrating well with one another and the light hint of oak. Food friendly, it's also a great deal.                                                     1\n",
       "This Bordeaux-style blend is comprised of 44% Cabernet Sauvignon, 43% Merlot and 13% Cabernet Franc. The fruit flavors of raspberry and blackberry are light and tangy, the tannins mellow. A note of dark chocolate highlights the finish.                                                                                                      1\n",
       "From the famous site on Westside Road outside of Healdsburg, this bold red shows orange, dark cherry and pungent earth scents, remaining savory at its core. Medium-bodied and balanced with acidity, it takes on a meaty persona seasoned with pepper, clove and black tea.                                                                     1\n",
       "This medium-bodied wine has more earthy and floral flavors than straightforward fruit, so it's something a bit different. Well-priced and easy to drink, it can please a crowd.                                                                                                                                                                  1\n",
       "Aromas of wild berry, thyme and a whiff of cellar floor lead the nose on this structured red while the full-bodied palate offers dried black cherry, white pepper, sage and anise. Tightly wound tannins provide framework. Give it a few years to unfurl then drink up.                                                                         1\n",
       "Name: description, Length: 958, dtype: int64"
      ]
     },
     "execution_count": 12,
     "metadata": {},
     "output_type": "execute_result"
    }
   ],
   "source": [
    "vino2['description'].value_counts()"
   ]
  },
  {
   "cell_type": "code",
   "execution_count": 13,
   "metadata": {},
   "outputs": [
    {
     "data": {
      "text/plain": [
       "Riserva                                      13\n",
       "Estate                                       12\n",
       "Estate Grown                                 10\n",
       "Reserve                                       9\n",
       "Reserva                                       7\n",
       "                                             ..\n",
       "Garys' Vineyard                               1\n",
       "Reserva Edición Especial Sergio Hernández     1\n",
       "Vaillons Premier Cru                          1\n",
       "Estate Grown Cabernet                         1\n",
       "La Umbra                                      1\n",
       "Name: designation, Length: 655, dtype: int64"
      ]
     },
     "execution_count": 13,
     "metadata": {},
     "output_type": "execute_result"
    }
   ],
   "source": [
    "vino2['designation'].value_counts()"
   ]
  },
  {
   "cell_type": "code",
   "execution_count": 14,
   "metadata": {},
   "outputs": [
    {
     "data": {
      "text/plain": [
       "California           327\n",
       "Oregon                72\n",
       "Tuscany               65\n",
       "Piedmont              53\n",
       "Washington            45\n",
       "                    ... \n",
       "Rheinhessen            1\n",
       "Florina                1\n",
       "Judean Hills           1\n",
       "Casablanca Valley      1\n",
       "Maipo Valley           1\n",
       "Name: province, Length: 92, dtype: int64"
      ]
     },
     "execution_count": 14,
     "metadata": {},
     "output_type": "execute_result"
    }
   ],
   "source": [
    "vino2['province'].value_counts()"
   ]
  },
  {
   "cell_type": "code",
   "execution_count": 15,
   "metadata": {},
   "outputs": [
    {
     "data": {
      "text/plain": [
       "Napa Valley                            45\n",
       "Barolo                                 35\n",
       "Willamette Valley                      32\n",
       "Paso Robles                            27\n",
       "Brunello di Montalcino                 25\n",
       "                                       ..\n",
       "Coteaux du Languedoc Pic Saint Loup     1\n",
       "Cigales                                 1\n",
       "Morey-Saint-Denis                       1\n",
       "Mendocino                               1\n",
       "Fronton                                 1\n",
       "Name: region_1, Length: 199, dtype: int64"
      ]
     },
     "execution_count": 15,
     "metadata": {},
     "output_type": "execute_result"
    }
   ],
   "source": [
    "vino2['region_1'].value_counts()"
   ]
  },
  {
   "cell_type": "code",
   "execution_count": 19,
   "metadata": {
    "scrolled": true
   },
   "outputs": [
    {
     "data": {
      "text/plain": [
       "Central Coast              110\n",
       "Sonoma                      76\n",
       "Napa                        69\n",
       "Willamette Valley           58\n",
       "Columbia Valley             42\n",
       "California Other            21\n",
       "Mendocino/Lake Counties     17\n",
       "Sierra Foothills            13\n",
       "Finger Lakes                12\n",
       "Napa-Sonoma                  8\n",
       "Central Valley               8\n",
       "Oregon Other                 7\n",
       "Southern Oregon              6\n",
       "Washington Other             3\n",
       "South Coast                  3\n",
       "North Coast                  2\n",
       "Long Island                  1\n",
       "New York Other               1\n",
       "Name: region_2, dtype: int64"
      ]
     },
     "execution_count": 19,
     "metadata": {},
     "output_type": "execute_result"
    }
   ],
   "source": [
    "vino2['region_2'].value_counts()"
   ]
  },
  {
   "cell_type": "code",
   "execution_count": 17,
   "metadata": {},
   "outputs": [
    {
     "data": {
      "text/plain": [
       "Pinot Noir            116\n",
       "Chardonnay             95\n",
       "Cabernet Sauvignon     85\n",
       "Red Blend              67\n",
       "Nebbiolo               48\n",
       "                     ... \n",
       "Pinot Noir-Gamay        1\n",
       "Negroamaro              1\n",
       "Gros Manseng            1\n",
       "Alvarinho               1\n",
       "Merlot-Malbec           1\n",
       "Name: variety, Length: 119, dtype: int64"
      ]
     },
     "execution_count": 17,
     "metadata": {},
     "output_type": "execute_result"
    }
   ],
   "source": [
    "vino2['variety'].value_counts()"
   ]
  },
  {
   "cell_type": "code",
   "execution_count": 20,
   "metadata": {},
   "outputs": [
    {
     "data": {
      "text/plain": [
       "Caves Velhas              6\n",
       "Patricia Green Cellars    5\n",
       "Force Majeure             5\n",
       "Bergström                 5\n",
       "Herdade do Rocim          4\n",
       "                         ..\n",
       "Château Raymond-Lafon     1\n",
       "Conterno Fantino          1\n",
       "OT                        1\n",
       "Hatzimichalis             1\n",
       "Maddalena                 1\n",
       "Name: winery, Length: 784, dtype: int64"
      ]
     },
     "execution_count": 20,
     "metadata": {},
     "output_type": "execute_result"
    }
   ],
   "source": [
    "vino2['winery'].value_counts()"
   ]
  },
  {
   "cell_type": "code",
   "execution_count": 21,
   "metadata": {
    "scrolled": true
   },
   "outputs": [
    {
     "name": "stdout",
     "output_type": "stream",
     "text": [
      "<class 'pandas.core.frame.DataFrame'>\n",
      "Int64Index: 1000 entries, 0 to 999\n",
      "Data columns (total 10 columns):\n",
      " #   Column       Non-Null Count  Dtype   \n",
      "---  ------       --------------  -----   \n",
      " 0   country      1000 non-null   category\n",
      " 1   description  1000 non-null   object  \n",
      " 2   designation  765 non-null    object  \n",
      " 3   points       1000 non-null   int8    \n",
      " 4   price        955 non-null    float16 \n",
      " 5   province     1000 non-null   object  \n",
      " 6   region_1     858 non-null    object  \n",
      " 7   region_2     457 non-null    category\n",
      " 8   variety      1000 non-null   object  \n",
      " 9   winery       1000 non-null   object  \n",
      "dtypes: category(2), float16(1), int8(1), object(6)\n",
      "memory usage: 61.1+ KB\n"
     ]
    }
   ],
   "source": [
    "vino3 = pd.read_csv(fullPathFile, nrows=1000, index_col='Unnamed: 0', dtype={ 'points': np.int8, 'price': np.float16, 'country': 'category', 'region_2': 'category' })\n",
    "vino3.info()"
   ]
  },
  {
   "cell_type": "markdown",
   "metadata": {},
   "source": [
    "Si tenemos columnas que podemos omitir, podemos hacerlo de la siguiente forma:"
   ]
  },
  {
   "cell_type": "code",
   "execution_count": 22,
   "metadata": {},
   "outputs": [
    {
     "name": "stdout",
     "output_type": "stream",
     "text": [
      "<class 'pandas.core.frame.DataFrame'>\n",
      "Int64Index: 1000 entries, 0 to 999\n",
      "Data columns (total 8 columns):\n",
      " #   Column       Non-Null Count  Dtype   \n",
      "---  ------       --------------  -----   \n",
      " 0   country      1000 non-null   category\n",
      " 1   description  1000 non-null   object  \n",
      " 2   designation  765 non-null    object  \n",
      " 3   points       1000 non-null   int8    \n",
      " 4   price        955 non-null    float16 \n",
      " 5   province     1000 non-null   object  \n",
      " 6   variety      1000 non-null   object  \n",
      " 7   winery       1000 non-null   object  \n",
      "dtypes: category(1), float16(1), int8(1), object(5)\n",
      "memory usage: 51.6+ KB\n"
     ]
    }
   ],
   "source": [
    "cols = {'Unnamed: 0', 'country', 'description', 'designation', 'points', 'price', 'province', 'variety', 'winery'}\n",
    "vino4 = pd.read_csv(fullPathFile, nrows=1000, index_col='Unnamed: 0', dtype={'points': np.int8, 'price': np.float16, 'country': 'category'},usecols=cols)\n",
    "vino4.info()"
   ]
  },
  {
   "cell_type": "markdown",
   "metadata": {},
   "source": [
    "Si todo lo anterior hecho no es suficiente, podemos hacer algo mas. Procesar trozos de datos, utilizando el parametro chunksize"
   ]
  },
  {
   "cell_type": "code",
   "execution_count": 23,
   "metadata": {},
   "outputs": [
    {
     "name": "stdout",
     "output_type": "stream",
     "text": [
      "Se proceso 200 filas\n",
      "Se proceso 200 filas\n",
      "Se proceso 200 filas\n",
      "Se proceso 200 filas\n",
      "Se proceso 200 filas\n"
     ]
    }
   ],
   "source": [
    "cols = {'Unnamed: 0', 'country', 'description', 'designation', 'points', 'price', 'province', 'variety', 'winery'}\n",
    "vino_iter = pd.read_csv(fullPathFile, nrows=1000, index_col='Unnamed: 0', dtype={'points': np.int8, 'price': np.float16, 'country': 'category'},usecols=cols, chunksize=200)\n",
    "\n",
    "\n",
    "def process(df):\n",
    "    return f\"Se proceso {df.shape[0]} filas\"\n",
    "\n",
    "for chunk in vino_iter:\n",
    "    print(process(chunk))"
   ]
  },
  {
   "cell_type": "markdown",
   "metadata": {},
   "source": [
    "Si queremos obtener una muestra aleatoria de nuestro dataset"
   ]
  },
  {
   "cell_type": "code",
   "execution_count": 26,
   "metadata": {},
   "outputs": [
    {
     "data": {
      "text/html": [
       "<div>\n",
       "<style scoped>\n",
       "    .dataframe tbody tr th:only-of-type {\n",
       "        vertical-align: middle;\n",
       "    }\n",
       "\n",
       "    .dataframe tbody tr th {\n",
       "        vertical-align: top;\n",
       "    }\n",
       "\n",
       "    .dataframe thead th {\n",
       "        text-align: right;\n",
       "    }\n",
       "</style>\n",
       "<table border=\"1\" class=\"dataframe\">\n",
       "  <thead>\n",
       "    <tr style=\"text-align: right;\">\n",
       "      <th></th>\n",
       "      <th>country</th>\n",
       "      <th>description</th>\n",
       "      <th>designation</th>\n",
       "      <th>points</th>\n",
       "      <th>price</th>\n",
       "      <th>province</th>\n",
       "      <th>variety</th>\n",
       "      <th>winery</th>\n",
       "    </tr>\n",
       "  </thead>\n",
       "  <tbody>\n",
       "    <tr>\n",
       "      <th>212</th>\n",
       "      <td>US</td>\n",
       "      <td>There is earthy darkness and a hint of the for...</td>\n",
       "      <td>Rocky Ridge Vineyard</td>\n",
       "      <td>93</td>\n",
       "      <td>50.0</td>\n",
       "      <td>California</td>\n",
       "      <td>Zinfandel</td>\n",
       "      <td>Robert Biale</td>\n",
       "    </tr>\n",
       "    <tr>\n",
       "      <th>313</th>\n",
       "      <td>US</td>\n",
       "      <td>This impressive 100% varietal wine shows focus...</td>\n",
       "      <td>Outer Limits</td>\n",
       "      <td>94</td>\n",
       "      <td>155.0</td>\n",
       "      <td>California</td>\n",
       "      <td>Cabernet Sauvignon</td>\n",
       "      <td>Parallel</td>\n",
       "    </tr>\n",
       "    <tr>\n",
       "      <th>618</th>\n",
       "      <td>US</td>\n",
       "      <td>Here's a big Pinot Noir, dark, dense and tanni...</td>\n",
       "      <td>Rodgers Creek Vineyard</td>\n",
       "      <td>91</td>\n",
       "      <td>45.0</td>\n",
       "      <td>California</td>\n",
       "      <td>Pinot Noir</td>\n",
       "      <td>Les Voleurs</td>\n",
       "    </tr>\n",
       "    <tr>\n",
       "      <th>644</th>\n",
       "      <td>Portugal</td>\n",
       "      <td>Vineyards in the upper Douro Superior region a...</td>\n",
       "      <td>Contraste Branco</td>\n",
       "      <td>90</td>\n",
       "      <td>19.0</td>\n",
       "      <td>Douro</td>\n",
       "      <td>Portuguese White</td>\n",
       "      <td>Conceito Vinhos</td>\n",
       "    </tr>\n",
       "    <tr>\n",
       "      <th>709</th>\n",
       "      <td>US</td>\n",
       "      <td>Tangy and intensely vibrant in citrus, this si...</td>\n",
       "      <td>Redwood Ranch</td>\n",
       "      <td>90</td>\n",
       "      <td>25.0</td>\n",
       "      <td>California</td>\n",
       "      <td>Sauvignon Blanc</td>\n",
       "      <td>Ousterhout</td>\n",
       "    </tr>\n",
       "    <tr>\n",
       "      <th>...</th>\n",
       "      <td>...</td>\n",
       "      <td>...</td>\n",
       "      <td>...</td>\n",
       "      <td>...</td>\n",
       "      <td>...</td>\n",
       "      <td>...</td>\n",
       "      <td>...</td>\n",
       "      <td>...</td>\n",
       "    </tr>\n",
       "    <tr>\n",
       "      <th>150274</th>\n",
       "      <td>Italy</td>\n",
       "      <td>An attractive retro label doesn't set you up f...</td>\n",
       "      <td>NaN</td>\n",
       "      <td>87</td>\n",
       "      <td>15.0</td>\n",
       "      <td>Tuscany</td>\n",
       "      <td>Sangiovese</td>\n",
       "      <td>Giacomo Mori</td>\n",
       "    </tr>\n",
       "    <tr>\n",
       "      <th>150385</th>\n",
       "      <td>US</td>\n",
       "      <td>Dry and gritty in texture, with hard-edged, ja...</td>\n",
       "      <td>Meritage</td>\n",
       "      <td>84</td>\n",
       "      <td>15.0</td>\n",
       "      <td>California</td>\n",
       "      <td>Cabernet Blend</td>\n",
       "      <td>Lyeth</td>\n",
       "    </tr>\n",
       "    <tr>\n",
       "      <th>150610</th>\n",
       "      <td>US</td>\n",
       "      <td>Ripe, strawberry/raspberry preserves, with a p...</td>\n",
       "      <td>NaN</td>\n",
       "      <td>89</td>\n",
       "      <td>19.0</td>\n",
       "      <td>California</td>\n",
       "      <td>Zinfandel</td>\n",
       "      <td>Castle</td>\n",
       "    </tr>\n",
       "    <tr>\n",
       "      <th>150690</th>\n",
       "      <td>France</td>\n",
       "      <td>A négociant bottling from the ubiquitous Yvon ...</td>\n",
       "      <td>NaN</td>\n",
       "      <td>86</td>\n",
       "      <td>10.0</td>\n",
       "      <td>Bordeaux</td>\n",
       "      <td>Bordeaux-style Red Blend</td>\n",
       "      <td>Premius</td>\n",
       "    </tr>\n",
       "    <tr>\n",
       "      <th>150705</th>\n",
       "      <td>US</td>\n",
       "      <td>Thick, chewy, cherry fruit, with lots of wood ...</td>\n",
       "      <td>Walker Vineyard</td>\n",
       "      <td>85</td>\n",
       "      <td>18.0</td>\n",
       "      <td>California</td>\n",
       "      <td>Zinfandel</td>\n",
       "      <td>Boeger</td>\n",
       "    </tr>\n",
       "  </tbody>\n",
       "</table>\n",
       "<p>1000 rows × 8 columns</p>\n",
       "</div>"
      ],
      "text/plain": [
       "         country                                        description  \\\n",
       "212           US  There is earthy darkness and a hint of the for...   \n",
       "313           US  This impressive 100% varietal wine shows focus...   \n",
       "618           US  Here's a big Pinot Noir, dark, dense and tanni...   \n",
       "644     Portugal  Vineyards in the upper Douro Superior region a...   \n",
       "709           US  Tangy and intensely vibrant in citrus, this si...   \n",
       "...          ...                                                ...   \n",
       "150274     Italy  An attractive retro label doesn't set you up f...   \n",
       "150385        US  Dry and gritty in texture, with hard-edged, ja...   \n",
       "150610        US  Ripe, strawberry/raspberry preserves, with a p...   \n",
       "150690    France  A négociant bottling from the ubiquitous Yvon ...   \n",
       "150705        US  Thick, chewy, cherry fruit, with lots of wood ...   \n",
       "\n",
       "                   designation  points  price    province  \\\n",
       "212       Rocky Ridge Vineyard      93   50.0  California   \n",
       "313               Outer Limits      94  155.0  California   \n",
       "618     Rodgers Creek Vineyard      91   45.0  California   \n",
       "644           Contraste Branco      90   19.0       Douro   \n",
       "709              Redwood Ranch      90   25.0  California   \n",
       "...                        ...     ...    ...         ...   \n",
       "150274                     NaN      87   15.0     Tuscany   \n",
       "150385                Meritage      84   15.0  California   \n",
       "150610                     NaN      89   19.0  California   \n",
       "150690                     NaN      86   10.0    Bordeaux   \n",
       "150705         Walker Vineyard      85   18.0  California   \n",
       "\n",
       "                         variety           winery  \n",
       "212                    Zinfandel     Robert Biale  \n",
       "313           Cabernet Sauvignon         Parallel  \n",
       "618                   Pinot Noir      Les Voleurs  \n",
       "644             Portuguese White  Conceito Vinhos  \n",
       "709              Sauvignon Blanc       Ousterhout  \n",
       "...                          ...              ...  \n",
       "150274                Sangiovese     Giacomo Mori  \n",
       "150385            Cabernet Blend            Lyeth  \n",
       "150610                 Zinfandel           Castle  \n",
       "150690  Bordeaux-style Red Blend          Premius  \n",
       "150705                 Zinfandel           Boeger  \n",
       "\n",
       "[1000 rows x 8 columns]"
      ]
     },
     "execution_count": 26,
     "metadata": {},
     "output_type": "execute_result"
    }
   ],
   "source": [
    "import random\n",
    "\n",
    "n = sum(1 for line in open(fullPathFile, encoding=\"utf8\")) - 1 #number of records in file (excludes header)\n",
    "s = 1000 #desired sample size\n",
    "skip = sorted(random.sample(range(1,n+1),n-s)) #the 0-indexed header will not be included in the skip list\n",
    "vino_random = pd.read_csv(fullPathFile, skiprows=skip, index_col='Unnamed: 0', dtype={'points': np.int8, 'price': np.float16, 'country': 'category'},usecols=cols)\n",
    "vino_random\n"
   ]
  },
  {
   "cell_type": "code",
   "execution_count": 27,
   "metadata": {},
   "outputs": [
    {
     "name": "stdout",
     "output_type": "stream",
     "text": [
      "<class 'pandas.core.frame.DataFrame'>\n",
      "Int64Index: 1000 entries, 212 to 150705\n",
      "Data columns (total 8 columns):\n",
      " #   Column       Non-Null Count  Dtype   \n",
      "---  ------       --------------  -----   \n",
      " 0   country      1000 non-null   category\n",
      " 1   description  1000 non-null   object  \n",
      " 2   designation  716 non-null    object  \n",
      " 3   points       1000 non-null   int8    \n",
      " 4   price        928 non-null    float16 \n",
      " 5   province     1000 non-null   object  \n",
      " 6   variety      1000 non-null   object  \n",
      " 7   winery       1000 non-null   object  \n",
      "dtypes: category(1), float16(1), int8(1), object(5)\n",
      "memory usage: 51.6+ KB\n"
     ]
    }
   ],
   "source": [
    "vino_random.info()"
   ]
  },
  {
   "cell_type": "code",
   "execution_count": 28,
   "metadata": {},
   "outputs": [
    {
     "data": {
      "text/plain": [
       "9800"
      ]
     },
     "execution_count": 28,
     "metadata": {},
     "output_type": "execute_result"
    }
   ],
   "source": [
    "vino_random['country'].memory_usage() # bytes"
   ]
  },
  {
   "cell_type": "code",
   "execution_count": 29,
   "metadata": {},
   "outputs": [
    {
     "data": {
      "text/plain": [
       "10919"
      ]
     },
     "execution_count": 29,
     "metadata": {},
     "output_type": "execute_result"
    }
   ],
   "source": [
    "vino_random['country'].memory_usage(deep=True) # bytes"
   ]
  },
  {
   "cell_type": "markdown",
   "metadata": {},
   "source": [
    "Podemos usar el formato parquet, es usado ampliamente en big data."
   ]
  },
  {
   "cell_type": "code",
   "execution_count": 30,
   "metadata": {},
   "outputs": [],
   "source": [
    "vino.to_parquet(\"vino.pqt\")"
   ]
  },
  {
   "cell_type": "code",
   "execution_count": 33,
   "metadata": {},
   "outputs": [
    {
     "name": "stdout",
     "output_type": "stream",
     "text": [
      "<class 'pandas.core.frame.DataFrame'>\n",
      "Int64Index: 1000 entries, 0 to 999\n",
      "Data columns (total 10 columns):\n",
      " #   Column       Non-Null Count  Dtype  \n",
      "---  ------       --------------  -----  \n",
      " 0   country      1000 non-null   object \n",
      " 1   description  1000 non-null   object \n",
      " 2   designation  765 non-null    object \n",
      " 3   points       1000 non-null   int64  \n",
      " 4   price        955 non-null    float64\n",
      " 5   province     1000 non-null   object \n",
      " 6   region_1     858 non-null    object \n",
      " 7   region_2     457 non-null    object \n",
      " 8   variety      1000 non-null   object \n",
      " 9   winery       1000 non-null   object \n",
      "dtypes: float64(1), int64(1), object(8)\n",
      "memory usage: 85.9+ KB\n"
     ]
    }
   ],
   "source": [
    "vino_parquet = pd.read_parquet(\"vino.pqt\")\n",
    "vino_parquet.info()"
   ]
  }
 ],
 "metadata": {
  "kernelspec": {
   "display_name": "Python 3",
   "language": "python",
   "name": "python3"
  },
  "language_info": {
   "codemirror_mode": {
    "name": "ipython",
    "version": 3
   },
   "file_extension": ".py",
   "mimetype": "text/x-python",
   "name": "python",
   "nbconvert_exporter": "python",
   "pygments_lexer": "ipython3",
   "version": "3.8.5"
  }
 },
 "nbformat": 4,
 "nbformat_minor": 4
}
